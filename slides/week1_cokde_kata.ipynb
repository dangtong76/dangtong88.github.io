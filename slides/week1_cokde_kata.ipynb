{
 "cells": [
  {
   "cell_type": "markdown",
   "metadata": {},
   "source": [
    "# 1주차 Codekata [ 데이터 타입 및 구조 / 흐름제어 / 함수 / 입력 ]"
   ]
  },
  {
   "cell_type": "markdown",
   "metadata": {},
   "source": [
    "### 문제 1\n",
    "- 1부터 20까지 벡터를 만들고 출력 합니다."
   ]
  },
  {
   "cell_type": "code",
   "execution_count": 290,
   "metadata": {},
   "outputs": [
    {
     "data": {
      "text/html": [
       "<ol class=list-inline>\n",
       "\t<li>1</li>\n",
       "\t<li>2</li>\n",
       "\t<li>3</li>\n",
       "\t<li>4</li>\n",
       "\t<li>5</li>\n",
       "\t<li>6</li>\n",
       "\t<li>7</li>\n",
       "\t<li>8</li>\n",
       "\t<li>9</li>\n",
       "\t<li>10</li>\n",
       "\t<li>11</li>\n",
       "\t<li>12</li>\n",
       "\t<li>13</li>\n",
       "\t<li>14</li>\n",
       "\t<li>15</li>\n",
       "\t<li>16</li>\n",
       "\t<li>17</li>\n",
       "\t<li>18</li>\n",
       "\t<li>19</li>\n",
       "\t<li>20</li>\n",
       "</ol>\n"
      ],
      "text/latex": [
       "\\begin{enumerate*}\n",
       "\\item 1\n",
       "\\item 2\n",
       "\\item 3\n",
       "\\item 4\n",
       "\\item 5\n",
       "\\item 6\n",
       "\\item 7\n",
       "\\item 8\n",
       "\\item 9\n",
       "\\item 10\n",
       "\\item 11\n",
       "\\item 12\n",
       "\\item 13\n",
       "\\item 14\n",
       "\\item 15\n",
       "\\item 16\n",
       "\\item 17\n",
       "\\item 18\n",
       "\\item 19\n",
       "\\item 20\n",
       "\\end{enumerate*}\n"
      ],
      "text/markdown": [
       "1. 1\n",
       "2. 2\n",
       "3. 3\n",
       "4. 4\n",
       "5. 5\n",
       "6. 6\n",
       "7. 7\n",
       "8. 8\n",
       "9. 9\n",
       "10. 10\n",
       "11. 11\n",
       "12. 12\n",
       "13. 13\n",
       "14. 14\n",
       "15. 15\n",
       "16. 16\n",
       "17. 17\n",
       "18. 18\n",
       "19. 19\n",
       "20. 20\n",
       "\n",
       "\n"
      ],
      "text/plain": [
       " [1]  1  2  3  4  5  6  7  8  9 10 11 12 13 14 15 16 17 18 19 20"
      ]
     },
     "metadata": {},
     "output_type": "display_data"
    },
    {
     "data": {
      "text/html": [
       "<ol class=list-inline>\n",
       "\t<li>1</li>\n",
       "\t<li>2</li>\n",
       "\t<li>3</li>\n",
       "\t<li>4</li>\n",
       "\t<li>5</li>\n",
       "\t<li>6</li>\n",
       "\t<li>7</li>\n",
       "\t<li>8</li>\n",
       "\t<li>9</li>\n",
       "\t<li>10</li>\n",
       "\t<li>11</li>\n",
       "\t<li>12</li>\n",
       "\t<li>13</li>\n",
       "\t<li>14</li>\n",
       "\t<li>15</li>\n",
       "\t<li>16</li>\n",
       "\t<li>17</li>\n",
       "\t<li>18</li>\n",
       "\t<li>19</li>\n",
       "\t<li>20</li>\n",
       "</ol>\n"
      ],
      "text/latex": [
       "\\begin{enumerate*}\n",
       "\\item 1\n",
       "\\item 2\n",
       "\\item 3\n",
       "\\item 4\n",
       "\\item 5\n",
       "\\item 6\n",
       "\\item 7\n",
       "\\item 8\n",
       "\\item 9\n",
       "\\item 10\n",
       "\\item 11\n",
       "\\item 12\n",
       "\\item 13\n",
       "\\item 14\n",
       "\\item 15\n",
       "\\item 16\n",
       "\\item 17\n",
       "\\item 18\n",
       "\\item 19\n",
       "\\item 20\n",
       "\\end{enumerate*}\n"
      ],
      "text/markdown": [
       "1. 1\n",
       "2. 2\n",
       "3. 3\n",
       "4. 4\n",
       "5. 5\n",
       "6. 6\n",
       "7. 7\n",
       "8. 8\n",
       "9. 9\n",
       "10. 10\n",
       "11. 11\n",
       "12. 12\n",
       "13. 13\n",
       "14. 14\n",
       "15. 15\n",
       "16. 16\n",
       "17. 17\n",
       "18. 18\n",
       "19. 19\n",
       "20. 20\n",
       "\n",
       "\n"
      ],
      "text/plain": [
       " [1]  1  2  3  4  5  6  7  8  9 10 11 12 13 14 15 16 17 18 19 20"
      ]
     },
     "metadata": {},
     "output_type": "display_data"
    }
   ],
   "source": [
    "v1 <- c(1:20); v1\n",
    "v2  <- 1:20; v2"
   ]
  },
  {
   "cell_type": "markdown",
   "metadata": {},
   "source": [
    "- 벡터 v1 의 5번째 항목 부터 10번째 항목을 출력하세요"
   ]
  },
  {
   "cell_type": "code",
   "execution_count": 291,
   "metadata": {},
   "outputs": [
    {
     "data": {
      "text/html": [
       "<ol class=list-inline>\n",
       "\t<li>5</li>\n",
       "\t<li>6</li>\n",
       "\t<li>7</li>\n",
       "\t<li>8</li>\n",
       "\t<li>9</li>\n",
       "\t<li>10</li>\n",
       "</ol>\n"
      ],
      "text/latex": [
       "\\begin{enumerate*}\n",
       "\\item 5\n",
       "\\item 6\n",
       "\\item 7\n",
       "\\item 8\n",
       "\\item 9\n",
       "\\item 10\n",
       "\\end{enumerate*}\n"
      ],
      "text/markdown": [
       "1. 5\n",
       "2. 6\n",
       "3. 7\n",
       "4. 8\n",
       "5. 9\n",
       "6. 10\n",
       "\n",
       "\n"
      ],
      "text/plain": [
       "[1]  5  6  7  8  9 10"
      ]
     },
     "metadata": {},
     "output_type": "display_data"
    }
   ],
   "source": [
    "v1[5:10]"
   ]
  },
  {
   "cell_type": "markdown",
   "metadata": {},
   "source": [
    "- 벡터 v1 의 9 번째 항목 부터 13번째 항목을  빼고 출력하세요"
   ]
  },
  {
   "cell_type": "code",
   "execution_count": 292,
   "metadata": {},
   "outputs": [
    {
     "data": {
      "text/html": [
       "<ol class=list-inline>\n",
       "\t<li>1</li>\n",
       "\t<li>2</li>\n",
       "\t<li>3</li>\n",
       "\t<li>4</li>\n",
       "\t<li>5</li>\n",
       "\t<li>6</li>\n",
       "\t<li>7</li>\n",
       "\t<li>8</li>\n",
       "\t<li>14</li>\n",
       "\t<li>15</li>\n",
       "\t<li>16</li>\n",
       "\t<li>17</li>\n",
       "\t<li>18</li>\n",
       "\t<li>19</li>\n",
       "\t<li>20</li>\n",
       "</ol>\n"
      ],
      "text/latex": [
       "\\begin{enumerate*}\n",
       "\\item 1\n",
       "\\item 2\n",
       "\\item 3\n",
       "\\item 4\n",
       "\\item 5\n",
       "\\item 6\n",
       "\\item 7\n",
       "\\item 8\n",
       "\\item 14\n",
       "\\item 15\n",
       "\\item 16\n",
       "\\item 17\n",
       "\\item 18\n",
       "\\item 19\n",
       "\\item 20\n",
       "\\end{enumerate*}\n"
      ],
      "text/markdown": [
       "1. 1\n",
       "2. 2\n",
       "3. 3\n",
       "4. 4\n",
       "5. 5\n",
       "6. 6\n",
       "7. 7\n",
       "8. 8\n",
       "9. 14\n",
       "10. 15\n",
       "11. 16\n",
       "12. 17\n",
       "13. 18\n",
       "14. 19\n",
       "15. 20\n",
       "\n",
       "\n"
      ],
      "text/plain": [
       " [1]  1  2  3  4  5  6  7  8 14 15 16 17 18 19 20"
      ]
     },
     "metadata": {},
     "output_type": "display_data"
    }
   ],
   "source": [
    "v1[-9:-13]"
   ]
  },
  {
   "cell_type": "markdown",
   "metadata": {},
   "source": [
    "### 문제2"
   ]
  },
  {
   "cell_type": "markdown",
   "metadata": {},
   "source": [
    "- 4 x 6  행렬 A 를 만들고 1 과 4 사이의 숫자로만 채우고 출력하세요"
   ]
  },
  {
   "cell_type": "code",
   "execution_count": 293,
   "metadata": {},
   "outputs": [
    {
     "data": {
      "text/html": [
       "<table>\n",
       "<tbody>\n",
       "\t<tr><td>1</td><td>1</td><td>1</td><td>1</td></tr>\n",
       "\t<tr><td>2</td><td>2</td><td>2</td><td>2</td></tr>\n",
       "\t<tr><td>3</td><td>3</td><td>3</td><td>3</td></tr>\n",
       "\t<tr><td>1</td><td>1</td><td>1</td><td>1</td></tr>\n",
       "\t<tr><td>2</td><td>2</td><td>2</td><td>2</td></tr>\n",
       "\t<tr><td>3</td><td>3</td><td>3</td><td>3</td></tr>\n",
       "</tbody>\n",
       "</table>\n"
      ],
      "text/latex": [
       "\\begin{tabular}{llll}\n",
       "\t 1 & 1 & 1 & 1\\\\\n",
       "\t 2 & 2 & 2 & 2\\\\\n",
       "\t 3 & 3 & 3 & 3\\\\\n",
       "\t 1 & 1 & 1 & 1\\\\\n",
       "\t 2 & 2 & 2 & 2\\\\\n",
       "\t 3 & 3 & 3 & 3\\\\\n",
       "\\end{tabular}\n"
      ],
      "text/markdown": [
       "\n",
       "| 1 | 1 | 1 | 1 | \n",
       "| 2 | 2 | 2 | 2 | \n",
       "| 3 | 3 | 3 | 3 | \n",
       "| 1 | 1 | 1 | 1 | \n",
       "| 2 | 2 | 2 | 2 | \n",
       "| 3 | 3 | 3 | 3 | \n",
       "\n",
       "\n"
      ],
      "text/plain": [
       "     [,1] [,2] [,3] [,4]\n",
       "[1,] 1    1    1    1   \n",
       "[2,] 2    2    2    2   \n",
       "[3,] 3    3    3    3   \n",
       "[4,] 1    1    1    1   \n",
       "[5,] 2    2    2    2   \n",
       "[6,] 3    3    3    3   "
      ]
     },
     "metadata": {},
     "output_type": "display_data"
    }
   ],
   "source": [
    "a <- matrix(c(1:3),6,4); a"
   ]
  },
  {
   "cell_type": "markdown",
   "metadata": {},
   "source": [
    "- 6 X 4 행렬 B 를 만들고 10 과 13 사이의 숫자를 채우돼,  채우고 출력하세요"
   ]
  },
  {
   "cell_type": "code",
   "execution_count": 294,
   "metadata": {},
   "outputs": [
    {
     "data": {
      "text/html": [
       "<table>\n",
       "<tbody>\n",
       "\t<tr><td>10</td><td>11</td></tr>\n",
       "\t<tr><td>12</td><td>13</td></tr>\n",
       "\t<tr><td>10</td><td>11</td></tr>\n",
       "\t<tr><td>12</td><td>13</td></tr>\n",
       "\t<tr><td>10</td><td>11</td></tr>\n",
       "\t<tr><td>12</td><td>13</td></tr>\n",
       "</tbody>\n",
       "</table>\n"
      ],
      "text/latex": [
       "\\begin{tabular}{ll}\n",
       "\t 10 & 11\\\\\n",
       "\t 12 & 13\\\\\n",
       "\t 10 & 11\\\\\n",
       "\t 12 & 13\\\\\n",
       "\t 10 & 11\\\\\n",
       "\t 12 & 13\\\\\n",
       "\\end{tabular}\n"
      ],
      "text/markdown": [
       "\n",
       "| 10 | 11 | \n",
       "| 12 | 13 | \n",
       "| 10 | 11 | \n",
       "| 12 | 13 | \n",
       "| 10 | 11 | \n",
       "| 12 | 13 | \n",
       "\n",
       "\n"
      ],
      "text/plain": [
       "     [,1] [,2]\n",
       "[1,] 10   11  \n",
       "[2,] 12   13  \n",
       "[3,] 10   11  \n",
       "[4,] 12   13  \n",
       "[5,] 10   11  \n",
       "[6,] 12   13  "
      ]
     },
     "metadata": {},
     "output_type": "display_data"
    }
   ],
   "source": [
    "b <- matrix(c(10:13),6,2,byrow=TRUE); b #nrow, ncol 은 생략 해도 2 가 nrow 가 되고, 4가 ncol 이 됩니다."
   ]
  },
  {
   "cell_type": "markdown",
   "metadata": {},
   "source": [
    "- 행렬 A 에 스칼라 값 4를 곱하고 다시 행렬 B를 곱해서 행렬 C를 만들고 출력하세요"
   ]
  },
  {
   "cell_type": "code",
   "execution_count": 295,
   "metadata": {},
   "outputs": [
    {
     "ename": "ERROR",
     "evalue": "Error in (a * 4) %*% b: 적합한 인자들이 아닙니다\n",
     "output_type": "error",
     "traceback": [
      "Error in (a * 4) %*% b: 적합한 인자들이 아닙니다\nTraceback:\n"
     ]
    }
   ],
   "source": [
    "(a*4) %*% b"
   ]
  },
  {
   "cell_type": "markdown",
   "metadata": {},
   "source": [
    "- 행렬 A 의 열의 수가 행렬 B의 행의 수와 일치 해야 행렬 곱을 할수 있습니다. 행렬 A의 전치 행렬을 구해서 다시 시도 해보세요"
   ]
  },
  {
   "cell_type": "code",
   "execution_count": 296,
   "metadata": {},
   "outputs": [
    {
     "data": {
      "text/html": [
       "<table>\n",
       "<tbody>\n",
       "\t<tr><td>528</td><td>576</td></tr>\n",
       "\t<tr><td>528</td><td>576</td></tr>\n",
       "\t<tr><td>528</td><td>576</td></tr>\n",
       "\t<tr><td>528</td><td>576</td></tr>\n",
       "</tbody>\n",
       "</table>\n"
      ],
      "text/latex": [
       "\\begin{tabular}{ll}\n",
       "\t 528 & 576\\\\\n",
       "\t 528 & 576\\\\\n",
       "\t 528 & 576\\\\\n",
       "\t 528 & 576\\\\\n",
       "\\end{tabular}\n"
      ],
      "text/markdown": [
       "\n",
       "| 528 | 576 | \n",
       "| 528 | 576 | \n",
       "| 528 | 576 | \n",
       "| 528 | 576 | \n",
       "\n",
       "\n"
      ],
      "text/plain": [
       "     [,1] [,2]\n",
       "[1,] 528  576 \n",
       "[2,] 528  576 \n",
       "[3,] 528  576 \n",
       "[4,] 528  576 "
      ]
     },
     "metadata": {},
     "output_type": "display_data"
    }
   ],
   "source": [
    "(t(a)*4) %*% b"
   ]
  },
  {
   "cell_type": "markdown",
   "metadata": {},
   "source": [
    "### 문제 3\n",
    "5명의 학생으로 이루어진 학교에서 학생들의 신체 수치를 데이터 화 하기 위해 id, name, age, height, weight, sex 를 속성으로 studentList 라는 이름의 리스트 데이터셋을 만들고 출력하세요. 데이터는 아래와 같습니다.\n",
    "\n",
    "|id|name|age|height|weight|sex|\n",
    "|--|------|---|---|---|---|\n",
    "|1|john|18|183|88|M|\n",
    "|2|bob|18|176|66|F|\n",
    "|3|tera|18|170|77|M|\n",
    "|4|jane|18|180|60|F|\n",
    "|5|jim|18|172|88|M|"
   ]
  },
  {
   "cell_type": "code",
   "execution_count": 297,
   "metadata": {},
   "outputs": [],
   "source": [
    "id <- c(1,2,3,4,5)\n",
    "name <- c(\"john\",\"bob\",\"tera\",\"jane\",\"jim\")\n",
    "age <- c(18,18,18,18,18)\n",
    "height <- c(183,176,170,180,172)\n",
    "weight <- c(88,66,77,60,88)\n",
    "sex <- c(\"M\",\"F\",\"M\",\"F\",\"M\")"
   ]
  },
  {
   "cell_type": "code",
   "execution_count": 298,
   "metadata": {},
   "outputs": [],
   "source": [
    "studentList <- list(ID=id, NAME=name, AGE=age, HEIGHT=height, WEIGHT=weight, SEX=sex) # List 는 Kye=Value 구조로 생성"
   ]
  },
  {
   "cell_type": "code",
   "execution_count": 299,
   "metadata": {
    "scrolled": false
   },
   "outputs": [
    {
     "data": {
      "text/html": [
       "<dl>\n",
       "\t<dt>$ID</dt>\n",
       "\t\t<dd><ol class=list-inline>\n",
       "\t<li>1</li>\n",
       "\t<li>2</li>\n",
       "\t<li>3</li>\n",
       "\t<li>4</li>\n",
       "\t<li>5</li>\n",
       "</ol>\n",
       "</dd>\n",
       "\t<dt>$NAME</dt>\n",
       "\t\t<dd><ol class=list-inline>\n",
       "\t<li>'john'</li>\n",
       "\t<li>'bob'</li>\n",
       "\t<li>'tera'</li>\n",
       "\t<li>'jane'</li>\n",
       "\t<li>'jim'</li>\n",
       "</ol>\n",
       "</dd>\n",
       "\t<dt>$AGE</dt>\n",
       "\t\t<dd><ol class=list-inline>\n",
       "\t<li>18</li>\n",
       "\t<li>18</li>\n",
       "\t<li>18</li>\n",
       "\t<li>18</li>\n",
       "\t<li>18</li>\n",
       "</ol>\n",
       "</dd>\n",
       "\t<dt>$HEIGHT</dt>\n",
       "\t\t<dd><ol class=list-inline>\n",
       "\t<li>183</li>\n",
       "\t<li>176</li>\n",
       "\t<li>170</li>\n",
       "\t<li>180</li>\n",
       "\t<li>172</li>\n",
       "</ol>\n",
       "</dd>\n",
       "\t<dt>$WEIGHT</dt>\n",
       "\t\t<dd><ol class=list-inline>\n",
       "\t<li>88</li>\n",
       "\t<li>66</li>\n",
       "\t<li>77</li>\n",
       "\t<li>60</li>\n",
       "\t<li>88</li>\n",
       "</ol>\n",
       "</dd>\n",
       "\t<dt>$SEX</dt>\n",
       "\t\t<dd><ol class=list-inline>\n",
       "\t<li>'M'</li>\n",
       "\t<li>'F'</li>\n",
       "\t<li>'M'</li>\n",
       "\t<li>'F'</li>\n",
       "\t<li>'M'</li>\n",
       "</ol>\n",
       "</dd>\n",
       "</dl>\n"
      ],
      "text/latex": [
       "\\begin{description}\n",
       "\\item[\\$ID] \\begin{enumerate*}\n",
       "\\item 1\n",
       "\\item 2\n",
       "\\item 3\n",
       "\\item 4\n",
       "\\item 5\n",
       "\\end{enumerate*}\n",
       "\n",
       "\\item[\\$NAME] \\begin{enumerate*}\n",
       "\\item 'john'\n",
       "\\item 'bob'\n",
       "\\item 'tera'\n",
       "\\item 'jane'\n",
       "\\item 'jim'\n",
       "\\end{enumerate*}\n",
       "\n",
       "\\item[\\$AGE] \\begin{enumerate*}\n",
       "\\item 18\n",
       "\\item 18\n",
       "\\item 18\n",
       "\\item 18\n",
       "\\item 18\n",
       "\\end{enumerate*}\n",
       "\n",
       "\\item[\\$HEIGHT] \\begin{enumerate*}\n",
       "\\item 183\n",
       "\\item 176\n",
       "\\item 170\n",
       "\\item 180\n",
       "\\item 172\n",
       "\\end{enumerate*}\n",
       "\n",
       "\\item[\\$WEIGHT] \\begin{enumerate*}\n",
       "\\item 88\n",
       "\\item 66\n",
       "\\item 77\n",
       "\\item 60\n",
       "\\item 88\n",
       "\\end{enumerate*}\n",
       "\n",
       "\\item[\\$SEX] \\begin{enumerate*}\n",
       "\\item 'M'\n",
       "\\item 'F'\n",
       "\\item 'M'\n",
       "\\item 'F'\n",
       "\\item 'M'\n",
       "\\end{enumerate*}\n",
       "\n",
       "\\end{description}\n"
      ],
      "text/markdown": [
       "$ID\n",
       ":   1. 1\n",
       "2. 2\n",
       "3. 3\n",
       "4. 4\n",
       "5. 5\n",
       "\n",
       "\n",
       "\n",
       "$NAME\n",
       ":   1. 'john'\n",
       "2. 'bob'\n",
       "3. 'tera'\n",
       "4. 'jane'\n",
       "5. 'jim'\n",
       "\n",
       "\n",
       "\n",
       "$AGE\n",
       ":   1. 18\n",
       "2. 18\n",
       "3. 18\n",
       "4. 18\n",
       "5. 18\n",
       "\n",
       "\n",
       "\n",
       "$HEIGHT\n",
       ":   1. 183\n",
       "2. 176\n",
       "3. 170\n",
       "4. 180\n",
       "5. 172\n",
       "\n",
       "\n",
       "\n",
       "$WEIGHT\n",
       ":   1. 88\n",
       "2. 66\n",
       "3. 77\n",
       "4. 60\n",
       "5. 88\n",
       "\n",
       "\n",
       "\n",
       "$SEX\n",
       ":   1. 'M'\n",
       "2. 'F'\n",
       "3. 'M'\n",
       "4. 'F'\n",
       "5. 'M'\n",
       "\n",
       "\n",
       "\n",
       "\n",
       "\n"
      ],
      "text/plain": [
       "$ID\n",
       "[1] 1 2 3 4 5\n",
       "\n",
       "$NAME\n",
       "[1] \"john\" \"bob\"  \"tera\" \"jane\" \"jim\" \n",
       "\n",
       "$AGE\n",
       "[1] 18 18 18 18 18\n",
       "\n",
       "$HEIGHT\n",
       "[1] 183 176 170 180 172\n",
       "\n",
       "$WEIGHT\n",
       "[1] 88 66 77 60 88\n",
       "\n",
       "$SEX\n",
       "[1] \"M\" \"F\" \"M\" \"F\" \"M\"\n"
      ]
     },
     "metadata": {},
     "output_type": "display_data"
    }
   ],
   "source": [
    "studentList"
   ]
  },
  {
   "cell_type": "markdown",
   "metadata": {},
   "source": [
    "### 문제 4. \n",
    "studentList 를 studentFrame 라는 이름의 데이터프레임으로 변환 및 출력 하세요"
   ]
  },
  {
   "cell_type": "code",
   "execution_count": 300,
   "metadata": {},
   "outputs": [],
   "source": [
    "studentFrame <- as.data.frame(studentList)"
   ]
  },
  {
   "cell_type": "code",
   "execution_count": 301,
   "metadata": {},
   "outputs": [
    {
     "data": {
      "text/html": [
       "<table>\n",
       "<thead><tr><th scope=col>ID</th><th scope=col>NAME</th><th scope=col>AGE</th><th scope=col>HEIGHT</th><th scope=col>WEIGHT</th><th scope=col>SEX</th></tr></thead>\n",
       "<tbody>\n",
       "\t<tr><td>1   </td><td>john</td><td>18  </td><td>183 </td><td>88  </td><td>M   </td></tr>\n",
       "\t<tr><td>2   </td><td>bob </td><td>18  </td><td>176 </td><td>66  </td><td>F   </td></tr>\n",
       "\t<tr><td>3   </td><td>tera</td><td>18  </td><td>170 </td><td>77  </td><td>M   </td></tr>\n",
       "\t<tr><td>4   </td><td>jane</td><td>18  </td><td>180 </td><td>60  </td><td>F   </td></tr>\n",
       "\t<tr><td>5   </td><td>jim </td><td>18  </td><td>172 </td><td>88  </td><td>M   </td></tr>\n",
       "</tbody>\n",
       "</table>\n"
      ],
      "text/latex": [
       "\\begin{tabular}{r|llllll}\n",
       " ID & NAME & AGE & HEIGHT & WEIGHT & SEX\\\\\n",
       "\\hline\n",
       "\t 1    & john & 18   & 183  & 88   & M   \\\\\n",
       "\t 2    & bob  & 18   & 176  & 66   & F   \\\\\n",
       "\t 3    & tera & 18   & 170  & 77   & M   \\\\\n",
       "\t 4    & jane & 18   & 180  & 60   & F   \\\\\n",
       "\t 5    & jim  & 18   & 172  & 88   & M   \\\\\n",
       "\\end{tabular}\n"
      ],
      "text/markdown": [
       "\n",
       "ID | NAME | AGE | HEIGHT | WEIGHT | SEX | \n",
       "|---|---|---|---|---|\n",
       "| 1    | john | 18   | 183  | 88   | M    | \n",
       "| 2    | bob  | 18   | 176  | 66   | F    | \n",
       "| 3    | tera | 18   | 170  | 77   | M    | \n",
       "| 4    | jane | 18   | 180  | 60   | F    | \n",
       "| 5    | jim  | 18   | 172  | 88   | M    | \n",
       "\n",
       "\n"
      ],
      "text/plain": [
       "  ID NAME AGE HEIGHT WEIGHT SEX\n",
       "1 1  john 18  183    88     M  \n",
       "2 2  bob  18  176    66     F  \n",
       "3 3  tera 18  170    77     M  \n",
       "4 4  jane 18  180    60     F  \n",
       "5 5  jim  18  172    88     M  "
      ]
     },
     "metadata": {},
     "output_type": "display_data"
    }
   ],
   "source": [
    "studentFrame"
   ]
  },
  {
   "cell_type": "markdown",
   "metadata": {},
   "source": [
    "### 문제5. \n",
    "studentFrame 에서 학생들의 ID, 키, 몸무게 만 뽑아서 studentMatrix 라는 이름의 행열로 전환 하세요"
   ]
  },
  {
   "cell_type": "code",
   "execution_count": 302,
   "metadata": {},
   "outputs": [],
   "source": [
    "studentMatrix <- as.matrix(studentFrame[c(1,4,5)])"
   ]
  },
  {
   "cell_type": "code",
   "execution_count": 303,
   "metadata": {
    "scrolled": true
   },
   "outputs": [
    {
     "data": {
      "text/html": [
       "<table>\n",
       "<thead><tr><th scope=col>ID</th><th scope=col>HEIGHT</th><th scope=col>WEIGHT</th></tr></thead>\n",
       "<tbody>\n",
       "\t<tr><td>1  </td><td>183</td><td>88 </td></tr>\n",
       "\t<tr><td>2  </td><td>176</td><td>66 </td></tr>\n",
       "\t<tr><td>3  </td><td>170</td><td>77 </td></tr>\n",
       "\t<tr><td>4  </td><td>180</td><td>60 </td></tr>\n",
       "\t<tr><td>5  </td><td>172</td><td>88 </td></tr>\n",
       "</tbody>\n",
       "</table>\n"
      ],
      "text/latex": [
       "\\begin{tabular}{lll}\n",
       " ID & HEIGHT & WEIGHT\\\\\n",
       "\\hline\n",
       "\t 1   & 183 & 88 \\\\\n",
       "\t 2   & 176 & 66 \\\\\n",
       "\t 3   & 170 & 77 \\\\\n",
       "\t 4   & 180 & 60 \\\\\n",
       "\t 5   & 172 & 88 \\\\\n",
       "\\end{tabular}\n"
      ],
      "text/markdown": [
       "\n",
       "ID | HEIGHT | WEIGHT | \n",
       "|---|---|---|---|---|\n",
       "| 1   | 183 | 88  | \n",
       "| 2   | 176 | 66  | \n",
       "| 3   | 170 | 77  | \n",
       "| 4   | 180 | 60  | \n",
       "| 5   | 172 | 88  | \n",
       "\n",
       "\n"
      ],
      "text/plain": [
       "     ID HEIGHT WEIGHT\n",
       "[1,] 1  183    88    \n",
       "[2,] 2  176    66    \n",
       "[3,] 3  170    77    \n",
       "[4,] 4  180    60    \n",
       "[5,] 5  172    88    "
      ]
     },
     "metadata": {},
     "output_type": "display_data"
    }
   ],
   "source": [
    "studentMatrix"
   ]
  },
  {
   "cell_type": "markdown",
   "metadata": {},
   "source": [
    "### 문제6. \n",
    "studentMatrix 행렬의  전치(Transepose) 행열을 만드세요."
   ]
  },
  {
   "cell_type": "code",
   "execution_count": 304,
   "metadata": {},
   "outputs": [
    {
     "data": {
      "text/html": [
       "<table>\n",
       "<tbody>\n",
       "\t<tr><th scope=row>ID</th><td>  1</td><td>  2</td><td>  3</td><td>  4</td><td>  5</td></tr>\n",
       "\t<tr><th scope=row>HEIGHT</th><td>183</td><td>176</td><td>170</td><td>180</td><td>172</td></tr>\n",
       "\t<tr><th scope=row>WEIGHT</th><td> 88</td><td> 66</td><td> 77</td><td> 60</td><td> 88</td></tr>\n",
       "</tbody>\n",
       "</table>\n"
      ],
      "text/latex": [
       "\\begin{tabular}{r|lllll}\n",
       "\tID &   1 &   2 &   3 &   4 &   5\\\\\n",
       "\tHEIGHT & 183 & 176 & 170 & 180 & 172\\\\\n",
       "\tWEIGHT &  88 &  66 &  77 &  60 &  88\\\\\n",
       "\\end{tabular}\n"
      ],
      "text/markdown": [
       "\n",
       "| ID |   1 |   2 |   3 |   4 |   5 | \n",
       "| HEIGHT | 183 | 176 | 170 | 180 | 172 | \n",
       "| WEIGHT |  88 |  66 |  77 |  60 |  88 | \n",
       "\n",
       "\n"
      ],
      "text/plain": [
       "       [,1] [,2] [,3] [,4] [,5]\n",
       "ID       1    2    3    4    5 \n",
       "HEIGHT 183  176  170  180  172 \n",
       "WEIGHT  88   66   77   60   88 "
      ]
     },
     "metadata": {},
     "output_type": "display_data"
    }
   ],
   "source": [
    "t(studentMatrix)"
   ]
  },
  {
   "cell_type": "markdown",
   "metadata": {},
   "source": [
    "### 문제7.\n",
    "studentFrame 의 NAME 열의 속성이 팩터형 인지 확인하세요. studentFrame 의 NAME 열을 출력 해보세요. "
   ]
  },
  {
   "cell_type": "code",
   "execution_count": 305,
   "metadata": {},
   "outputs": [
    {
     "data": {
      "text/html": [
       "TRUE"
      ],
      "text/latex": [
       "TRUE"
      ],
      "text/markdown": [
       "TRUE"
      ],
      "text/plain": [
       "[1] TRUE"
      ]
     },
     "metadata": {},
     "output_type": "display_data"
    }
   ],
   "source": [
    "is.factor(studentFrame$NAME)"
   ]
  },
  {
   "cell_type": "code",
   "execution_count": 306,
   "metadata": {},
   "outputs": [
    {
     "data": {
      "text/html": [
       "<ol class=list-inline>\n",
       "\t<li>john</li>\n",
       "\t<li>bob</li>\n",
       "\t<li>tera</li>\n",
       "\t<li>jane</li>\n",
       "\t<li>jim</li>\n",
       "</ol>\n",
       "\n",
       "<details>\n",
       "\t<summary style=display:list-item;cursor:pointer>\n",
       "\t\t<strong>Levels</strong>:\n",
       "\t</summary>\n",
       "\t<ol class=list-inline>\n",
       "\t\t<li>'bob'</li>\n",
       "\t\t<li>'jane'</li>\n",
       "\t\t<li>'jim'</li>\n",
       "\t\t<li>'john'</li>\n",
       "\t\t<li>'tera'</li>\n",
       "\t</ol>\n",
       "</details>"
      ],
      "text/latex": [
       "\\begin{enumerate*}\n",
       "\\item john\n",
       "\\item bob\n",
       "\\item tera\n",
       "\\item jane\n",
       "\\item jim\n",
       "\\end{enumerate*}\n",
       "\n",
       "\\emph{Levels}: \\begin{enumerate*}\n",
       "\\item 'bob'\n",
       "\\item 'jane'\n",
       "\\item 'jim'\n",
       "\\item 'john'\n",
       "\\item 'tera'\n",
       "\\end{enumerate*}\n"
      ],
      "text/markdown": [
       "1. john\n",
       "2. bob\n",
       "3. tera\n",
       "4. jane\n",
       "5. jim\n",
       "\n",
       "\n",
       "\n",
       "**Levels**: 1. 'bob'\n",
       "2. 'jane'\n",
       "3. 'jim'\n",
       "4. 'john'\n",
       "5. 'tera'\n",
       "\n",
       "\n"
      ],
      "text/plain": [
       "[1] john bob  tera jane jim \n",
       "Levels: bob jane jim john tera"
      ]
     },
     "metadata": {},
     "output_type": "display_data"
    }
   ],
   "source": [
    "studentFrame$NAME"
   ]
  },
  {
   "cell_type": "markdown",
   "metadata": {},
   "source": [
    "### 문제8.\n",
    "리스트 studentList를 데이터 프레임 studentFrame 으로 변환 시 NAME 필드가 팩터형이 아닌 문자형으로 유지하게 변환하고, NAME 필드가 팩터형인지 확인 해보세요"
   ]
  },
  {
   "cell_type": "code",
   "execution_count": 307,
   "metadata": {},
   "outputs": [],
   "source": [
    "studentFrame <- as.data.frame(studentList, stringsAsFactors=FALSE)"
   ]
  },
  {
   "cell_type": "code",
   "execution_count": 308,
   "metadata": {},
   "outputs": [
    {
     "data": {
      "text/html": [
       "FALSE"
      ],
      "text/latex": [
       "FALSE"
      ],
      "text/markdown": [
       "FALSE"
      ],
      "text/plain": [
       "[1] FALSE"
      ]
     },
     "metadata": {},
     "output_type": "display_data"
    }
   ],
   "source": [
    "is.factor(studentFrame$NAME)"
   ]
  },
  {
   "cell_type": "code",
   "execution_count": 309,
   "metadata": {},
   "outputs": [
    {
     "data": {
      "text/html": [
       "<ol class=list-inline>\n",
       "\t<li>'john'</li>\n",
       "\t<li>'bob'</li>\n",
       "\t<li>'tera'</li>\n",
       "\t<li>'jane'</li>\n",
       "\t<li>'jim'</li>\n",
       "</ol>\n"
      ],
      "text/latex": [
       "\\begin{enumerate*}\n",
       "\\item 'john'\n",
       "\\item 'bob'\n",
       "\\item 'tera'\n",
       "\\item 'jane'\n",
       "\\item 'jim'\n",
       "\\end{enumerate*}\n"
      ],
      "text/markdown": [
       "1. 'john'\n",
       "2. 'bob'\n",
       "3. 'tera'\n",
       "4. 'jane'\n",
       "5. 'jim'\n",
       "\n",
       "\n"
      ],
      "text/plain": [
       "[1] \"john\" \"bob\"  \"tera\" \"jane\" \"jim\" "
      ]
     },
     "metadata": {},
     "output_type": "display_data"
    }
   ],
   "source": [
    "studentFrame$NAME"
   ]
  },
  {
   "cell_type": "markdown",
   "metadata": {},
   "source": [
    "### 문제9.\n",
    "studentFrame 에서 학생들의 BMI 지수를 구하고 BMI 지수가 25 이상인 학생들의 경우에 \"학생이름\" \"WARNING\" \"BMI지수\" 이 출력 되고 25 미만인 학생들은 \"학생이름\" \"GREEN\" \"BMI지수\" 포맷으로메시지가 출력 되게 하세요\n",
    "- BIM 지수 = 몸무게 / ( 키 [미터] * 키 [미터])"
   ]
  },
  {
   "cell_type": "code",
   "execution_count": 331,
   "metadata": {},
   "outputs": [
    {
     "name": "stdout",
     "output_type": "stream",
     "text": [
      "[1] \"john\"             \"WARNING\"          \"26.2772850786825\"\n",
      "[1] \"bob\"              \"GREEN\"            \"21.3068181818182\"\n",
      "[1] \"tera\"            \"WARNING\"         \"26.643598615917\"\n",
      "[1] \"jane\"             \"GREEN\"            \"18.5185185185185\"\n",
      "[1] \"jim\"              \"WARNING\"          \"29.7458085451595\"\n"
     ]
    }
   ],
   "source": [
    "for (i in studentFrame$ID){\n",
    "    studentRow = studentFrame[i,]\n",
    "    BMI = studentRow[\"WEIGHT\"] / ((studentRow[\"HEIGHT\"]/100) * (studentRow[\"HEIGHT\"]/100))\n",
    "    if(BMI > 25){\n",
    "        print(c(studentRow$NAME,\"WARNING\",as.character(BMI))) #BMI 는 숫자형 이므로 벡터에 넣기 위헤서 변환 해야 합니다.\n",
    "    }\n",
    "    else{\n",
    "        print(c(studentRow$NAME,\"GREEN\", as.character(BMI)))\n",
    "    }\n",
    "}"
   ]
  },
  {
   "cell_type": "code",
   "execution_count": null,
   "metadata": {},
   "outputs": [],
   "source": []
  }
 ],
 "metadata": {
  "kernelspec": {
   "display_name": "R",
   "language": "R",
   "name": "ir"
  },
  "language_info": {
   "codemirror_mode": "r",
   "file_extension": ".r",
   "mimetype": "text/x-r-source",
   "name": "R",
   "pygments_lexer": "r",
   "version": "3.5.1"
  }
 },
 "nbformat": 4,
 "nbformat_minor": 2
}
